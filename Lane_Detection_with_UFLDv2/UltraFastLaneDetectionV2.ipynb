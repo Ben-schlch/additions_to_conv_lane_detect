{
 "cells": [
  {
   "cell_type": "markdown",
   "source": [
    "# Introduction to the Ultra Fast Lane Detection v2"
   ],
   "metadata": {
    "collapsed": false
   },
   "id": "eff2d174aad5d57a"
  },
  {
   "cell_type": "markdown",
   "source": [
    "1. [Introduction](#Introduction)\n",
    "2. [Setup](#Setup)\n",
    "3. [Architecture](#Architecture)\n",
    "4. [Results](#Results)\n",
    "5. [Challenges](#Challenges)"
   ],
   "metadata": {
    "collapsed": false
   },
   "id": "299654bb6541232d"
  },
  {
   "cell_type": "markdown",
   "source": [
    "# Introduction\n",
    "\n",
    "[Ultra Fast Lane Detection V2 (UFLDv2)](https://github.com/cfzd/Ultra-Fast-Lane-Detection-v2) is the Implementation of [this Paper](https://arxiv.org/abs/2206.07389). UFLDv2 uses Machine Learning and different State of the Art tricks to achieve a low inference time and top accuracy enabling high quality real time lane detection. The official demo video can be found [here](https://youtu.be/VkvpoHlaMe0).\n",
    "\n",
    "When detection lanes the key challenges include:\n",
    "- Diverse quality of road visibility:\n",
    "    - Lightning Conditions\n",
    "    - Weather Conditions\n",
    "    - Road Conditions\n",
    "    - Occlusions blocking Sight\n",
    "- High-Speed Performance\n",
    "- Robustness to different road types and the dynamic environment\n",
    "- Data Availability and Quality"
   ],
   "metadata": {
    "collapsed": false
   },
   "id": "c969483a011f5f2"
  },
  {
   "cell_type": "markdown",
   "source": [
    "## Setup\n",
    "\n",
    "The followng tools are used to implement UFLDv2:\n",
    "- Python 3.7\n",
    "- [PyTorch](https://pytorch.org/)\n",
    "- NVIDIA CUDA\n",
    "- some more Python packages like opencv\n",
    "\n",
    "To install please refer to the [Installation Guide](TODO)\n",
    "\n"
   ],
   "metadata": {
    "collapsed": false
   },
   "id": "a7593d2f8b4edea3"
  },
  {
   "cell_type": "markdown",
   "source": [
    "## Architecture\n",
    "\n",
    " UFLDv2 treats lane detection as an anchor-driven ordinal classification problem.   \n",
    " The method represents lanes with sparse coordinates on (hybrid) row and column anchors. This representation reduces computational cost and improves performance in challenging scenarios. ....\n",
    " \n",
    "TODO! Alwin!!\n",
    "\n"
   ],
   "metadata": {
    "collapsed": false
   },
   "id": "991110e0744f28a8"
  },
  {
   "cell_type": "markdown",
   "source": [
    "## Results \n",
    "\n",
    "We used the Ultra Fast Lane Detection V2 with the pretrained Model on the 3 provided videos (project, challenge, harder challenge) and also measured fps while doing so.\n",
    "\n",
    "The computer setup we used is: \n",
    "xxx\n",
    "xx\n",
    "xx\n",
    "\n",
    "The videos can be found here:\n",
    "- [Project Video](x)\n",
    "- [Challenge Video](x)\n",
    "- [Harder Challenge Video](x)"
   ],
   "metadata": {
    "collapsed": false
   },
   "id": "10eb2b6cfa55e6b2"
  },
  {
   "cell_type": "code",
   "execution_count": 2,
   "outputs": [],
   "source": [],
   "metadata": {
    "collapsed": false,
    "ExecuteTime": {
     "end_time": "2023-12-07T09:07:05.436538400Z",
     "start_time": "2023-12-07T09:07:05.417485500Z"
    }
   },
   "id": "6adb26bb0e6439a8"
  },
  {
   "cell_type": "code",
   "execution_count": null,
   "outputs": [],
   "source": [],
   "metadata": {
    "collapsed": false
   },
   "id": "c4db31c7d5737b5f"
  }
 ],
 "metadata": {
  "kernelspec": {
   "display_name": "Python 3",
   "language": "python",
   "name": "python3"
  },
  "language_info": {
   "codemirror_mode": {
    "name": "ipython",
    "version": 2
   },
   "file_extension": ".py",
   "mimetype": "text/x-python",
   "name": "python",
   "nbconvert_exporter": "python",
   "pygments_lexer": "ipython2",
   "version": "2.7.6"
  }
 },
 "nbformat": 4,
 "nbformat_minor": 5
}
