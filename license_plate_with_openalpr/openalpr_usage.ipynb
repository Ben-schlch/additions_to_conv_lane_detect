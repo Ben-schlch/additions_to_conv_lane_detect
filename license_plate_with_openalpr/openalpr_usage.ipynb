{
 "cells": [
  {
   "cell_type": "markdown",
   "source": [
    "# Detecting license plates and their text with Openalpr"
   ],
   "metadata": {
    "collapsed": false
   },
   "id": "f2910d98d7c60dca"
  },
  {
   "cell_type": "markdown",
   "source": [
    "https://github.com/openalpr/openalpr   \n",
    "----------------------\n",
    "OpenALPR is an open source Automatic License Plate Recognition library. It has already everything build-in to detect license plates and their text from images. So the output is always the text of any license plate. "
   ],
   "metadata": {
    "collapsed": false
   },
   "id": "a2a4d51ec6263e19"
  },
  {
   "cell_type": "markdown",
   "source": [
    "## Installation\n",
    "Windows: Pre-compiled binary (https://github.com/openalpr/openalpr/releases)\n",
    "Linux: \"sudo apt-get update && sudo apt-get install -y openalpr openalpr-daemon openalpr-utils libopenalpr-dev\""
   ],
   "metadata": {
    "collapsed": false
   },
   "id": "484a4e2d28cf73a4"
  },
  {
   "cell_type": "markdown",
   "source": [
    "## Usage\n",
    "command line tool: \"alpr <*image-path*>\"\n",
    "\n",
    "Bindings for Python, Node.js, Go, Java, and more: Require License!!"
   ],
   "metadata": {
    "collapsed": false
   },
   "id": "7f385ee81240ff51"
  },
  {
   "cell_type": "markdown",
   "source": [
    "## Why I did another license plate detection?\n",
    "This is really easy and requires no knowledge about any machine learning, ocr or image processing. It is just a command line tool. As I tried it, I thought it would still be interesting to present how good it works and how easy it is to use. "
   ],
   "metadata": {
    "collapsed": false
   },
   "id": "7df455ab7be49d7b"
  },
  {
   "cell_type": "code",
   "execution_count": 3,
   "outputs": [],
   "source": [
    "import subprocess\n",
    "\n",
    "def run_alpr_and_display_image(image_path):\n",
    "    output = subprocess.check_output([\"alpr\", image_path])\n",
    "    return output.decode(\"utf-8\")"
   ],
   "metadata": {
    "collapsed": false,
    "ExecuteTime": {
     "end_time": "2023-12-05T09:35:07.395481100Z",
     "start_time": "2023-12-05T09:35:07.379428800Z"
    }
   },
   "id": "ca97dc1424a0ebee"
  },
  {
   "cell_type": "markdown",
   "source": [
    "## Examples: \n",
    "Images used are handselected images from https://www.kaggle.com/datasets/andrewmvd/car-plate-detection/ . \n",
    "They try to provide a diverse set of images."
   ],
   "metadata": {
    "collapsed": false
   },
   "id": "349a9e97fadb88fd"
  },
  {
   "cell_type": "code",
   "execution_count": null,
   "outputs": [],
   "source": [
    "Da"
   ],
   "metadata": {
    "collapsed": false
   },
   "id": "5e66dc7a68f00f91"
  },
  {
   "cell_type": "code",
   "execution_count": 3,
   "outputs": [],
   "source": [],
   "metadata": {
    "collapsed": false,
    "ExecuteTime": {
     "end_time": "2023-12-05T09:38:47.498820400Z",
     "start_time": "2023-12-05T09:38:47.439459900Z"
    }
   },
   "id": "2bcbffdefb6555d7"
  },
  {
   "cell_type": "code",
   "execution_count": null,
   "outputs": [],
   "source": [],
   "metadata": {
    "collapsed": false
   },
   "id": "5191aa8a86cf6398"
  }
 ],
 "metadata": {
  "kernelspec": {
   "display_name": "Python 3",
   "language": "python",
   "name": "python3"
  },
  "language_info": {
   "codemirror_mode": {
    "name": "ipython",
    "version": 2
   },
   "file_extension": ".py",
   "mimetype": "text/x-python",
   "name": "python",
   "nbconvert_exporter": "python",
   "pygments_lexer": "ipython2",
   "version": "2.7.6"
  }
 },
 "nbformat": 4,
 "nbformat_minor": 5
}
